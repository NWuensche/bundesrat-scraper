{
 "cells": [
  {
   "cell_type": "code",
   "execution_count": 1,
   "metadata": {},
   "outputs": [],
   "source": [
    "import json\n",
    "import itertools\n",
    "import os\n",
    "import re\n",
    "from urllib.parse import urlsplit\n",
    "\n",
    "import requests\n",
    "from lxml import html as etree\n",
    "\n",
    "import pdfcutter"
   ]
  },
  {
   "cell_type": "code",
   "execution_count": 2,
   "metadata": {},
   "outputs": [],
   "source": [
    "BASE_URL = 'https://www.landesvertretung.bremen.de'\n",
    "INDEX_URL = 'https://www.diebevollmaechtigte.bremen.de/service/bundesratsbeschluesse-17466'\n",
    "PDF_URL = 'https://www.diebevollmaechtigte.bremen.de/sixcms/media.php/13/{number}.%20BR-Sitzung_Kurzbericht.pdf'"
   ]
  },
  {
   "cell_type": "code",
   "execution_count": 3,
   "metadata": {},
   "outputs": [],
   "source": [
    "LINK_TEXT_RE = re.compile(r'(\\d+)\\. Sitzung')\n",
    "\n",
    "def get_pdf_urls():\n",
    "    response = requests.get(INDEX_URL)\n",
    "    root = etree.fromstring(response.content)\n",
    "    names = root.xpath('.//ul/li/a/span')\n",
    "    for name in names:\n",
    "        text = name.text_content()\n",
    "        num = LINK_TEXT_RE.search(text)\n",
    "        if num is None:\n",
    "            continue\n",
    "        num = int(num.group(1))\n",
    "        yield num, PDF_URL.format(number=num)"
   ]
  },
  {
   "cell_type": "code",
   "execution_count": 4,
   "metadata": {},
   "outputs": [],
   "source": [
    "PDF_URLS = dict(get_pdf_urls())"
   ]
  },
  {
   "cell_type": "code",
   "execution_count": 5,
   "metadata": {},
   "outputs": [],
   "source": [
    "os.makedirs('./_cache', exist_ok=True)\n",
    "\n",
    "def get_filename_url(url):\n",
    "    splitresult = urlsplit(url)\n",
    "    filename = splitresult.path.replace('/', '_')\n",
    "    filename = os.path.join('./_cache', filename)\n",
    "    if os.path.exists(filename):\n",
    "        return filename\n",
    "    response = requests.get(url)\n",
    "    if response.status_code != 200:\n",
    "        raise Exception('{} not found'.format(url))\n",
    "    with open(filename, 'wb') as f:\n",
    "        f.write(response.content)\n",
    "    return filename\n",
    "\n",
    "def get_session_pdf_filename(session):\n",
    "    url = PDF_URLS[session['number']]\n",
    "    return get_filename_url(url)\n"
   ]
  },
  {
   "cell_type": "code",
   "execution_count": 6,
   "metadata": {},
   "outputs": [
    {
     "data": {
      "text/plain": [
       "64"
      ]
     },
     "execution_count": 6,
     "metadata": {},
     "output_type": "execute_result"
    }
   ],
   "source": [
    "with open('../bundesrat/sessions.json') as f:\n",
    "    sessions = json.load(f)\n",
    "len(sessions)"
   ]
  },
  {
   "cell_type": "code",
   "execution_count": 7,
   "metadata": {},
   "outputs": [],
   "source": [
    "def with_next(iterable):\n",
    "    a, b = itertools.tee(iterable)\n",
    "    next(b, None)\n",
    "    return itertools.zip_longest(a, b)"
   ]
  },
  {
   "cell_type": "code",
   "execution_count": 8,
   "metadata": {},
   "outputs": [],
   "source": [
    "def reformat_top_num(top_num):\n",
    "    try:\n",
    "        num = int(top_num)\n",
    "        return top_num.zfill(3)\n",
    "    except ValueError:\n",
    "        return '{} {}'.format(top_num[:-1].zfill(3), top_num[-1])\n",
    "\n",
    "def get_reformatted_tops(top_nums):\n",
    "    return [reformat_top_num(t) for t in top_nums]\n",
    "\n",
    "\n",
    "def get_beschluesse_text(session, filename):\n",
    "    cutter = pdfcutter.PDFCutter(filename=filename)\n",
    "    debugger = cutter.get_debugger()\n",
    "    top_nums = [t['number'] for t in session['tops'] if t['top_type'] == 'normal']\n",
    "    reformatted_top_nums = get_reformatted_tops(top_nums)\n",
    "\n",
    "    session_number = session['number']\n",
    "    page_heading = cutter.filter(search='Ergebnisse der {}. Sitzung des Bundesrates'.format(session_number))[0]\n",
    "\n",
    "    page_number = list(cutter.filter(search='1', page=1))[-1]\n",
    "    column_two = 705\n",
    "\n",
    "    for top_num, (current, next_) in zip(top_nums, with_next(reformatted_top_nums)):\n",
    "        current_top = cutter.filter(auto_regex='^{}$'.format(current))\n",
    "\n",
    "        next_top = None\n",
    "        if next_ is not None:\n",
    "            next_top = cutter.filter(auto_regex='^{}$'.format(next_))\n",
    "\n",
    "        senats = cutter.filter(auto_regex='^Senats-?') | cutter.filter(auto_regex='^Beschluss$')\n",
    "        senats = senats.below(current_top)\n",
    "        if next_top:\n",
    "            senats = senats.above(next_top)\n",
    "\n",
    "        ergebnis_br = cutter.filter(auto_regex='^Ergebnis BR$').below(current_top)\n",
    "        if next_top:\n",
    "            ergebnis_br = ergebnis_br.above(next_top)\n",
    "            \n",
    "        senats_text = cutter.all().filter(\n",
    "            doc_top__gte=senats.doc_top,\n",
    "            top__gte=page_heading.bottom,\n",
    "            bottom__lt=page_number.bottom,\n",
    "            right__lt=column_two\n",
    "        )\n",
    "\n",
    "        br_text = cutter.all().filter(\n",
    "            doc_top__gte=ergebnis_br.doc_top,\n",
    "            top__gte=page_heading.bottom,\n",
    "            bottom__lt=page_number.bottom,\n",
    "            right__lt=column_two\n",
    "        )\n",
    "\n",
    "        if next_top:\n",
    "            br_text = br_text.above(next_top)\n",
    "            senats_text = senats_text.above(ergebnis_br)\n",
    "            \n",
    "        senats_text = senats_text.right_of(senats)\n",
    "        br_text = br_text.right_of(ergebnis_br)\n",
    "\n",
    "        yield top_num, {'senat': senats_text.clean_text(), 'bundesrat': br_text.clean_text()}"
   ]
  },
  {
   "cell_type": "code",
   "execution_count": 9,
   "metadata": {},
   "outputs": [],
   "source": [
    "def get_session(session):\n",
    "    try:\n",
    "        filename = get_session_pdf_filename(session)\n",
    "    except KeyError:\n",
    "        return\n",
    "    return dict(get_beschluesse_text(session, filename))"
   ]
  },
  {
   "cell_type": "code",
   "execution_count": 10,
   "metadata": {},
   "outputs": [
    {
     "name": "stdout",
     "output_type": "stream",
     "text": [
      "Session 973\n",
      "Session 972\n",
      "Session 971\n",
      "Session 970\n",
      "Session 969\n",
      "Session 968\n",
      "Session 967\n",
      "Session 966\n",
      "Session 965\n",
      "Session 964\n",
      "Session 963\n",
      "Session 962\n",
      "Session 961\n",
      "Session 960\n",
      "Session 959\n",
      "Session 958\n",
      "Session 957\n",
      "Session 956\n",
      "Session 955\n",
      "Session 954\n",
      "Session 953\n",
      "Session 952\n",
      "Session 951\n",
      "Session 950\n",
      "Session 949\n",
      "Session 948\n",
      "Session 947\n",
      "Session 946\n",
      "Session 945\n",
      "Session 944\n",
      "Session 943\n",
      "Session 942\n",
      "Session 941\n",
      "Session 940\n",
      "Session 939\n",
      "Session 938\n",
      "Session 937\n",
      "Session 936\n",
      "Session 935\n",
      "Session 934\n",
      "Session 933\n",
      "Session 932\n",
      "Session 931\n",
      "Session 930\n",
      "Session 929\n",
      "Session 928\n",
      "Session 927\n",
      "Session 926\n",
      "Session 925\n",
      "Session 924\n",
      "Session 923\n",
      "Session 922\n",
      "Session 921\n",
      "Session 920\n",
      "Session 919\n",
      "Session 918\n",
      "Session 917\n",
      "Session 916\n",
      "Session 915\n",
      "Session 914\n",
      "Session 913\n",
      "Session 912\n",
      "Session 911\n",
      "Session 910\n",
      "Total sessions: 40\n"
     ]
    }
   ],
   "source": [
    "FILENAME = 'session_tops.json'\n",
    "if os.path.exists(FILENAME):\n",
    "    with open(FILENAME) as f:\n",
    "        session_tops = json.load(f)\n",
    "else:\n",
    "    session_tops = {}\n",
    "\n",
    "for session in sessions:\n",
    "    num = session['number']\n",
    "    print('Session', num)\n",
    "    if str(num) in session_tops:\n",
    "        continue\n",
    "    result = get_session(session)\n",
    "    if result is None:\n",
    "        continue\n",
    "    session_tops[str(num)] = result\n",
    "    with open(FILENAME, 'w') as f:\n",
    "        json.dump(session_tops, f)\n",
    "\n",
    "print('Total sessions:', len(session_tops))"
   ]
  },
  {
   "cell_type": "code",
   "execution_count": null,
   "metadata": {},
   "outputs": [],
   "source": []
  }
 ],
 "metadata": {
  "kernelspec": {
   "display_name": "Python 3",
   "language": "python",
   "name": "python3"
  },
  "language_info": {
   "codemirror_mode": {
    "name": "ipython",
    "version": 3
   },
   "file_extension": ".py",
   "mimetype": "text/x-python",
   "name": "python",
   "nbconvert_exporter": "python",
   "pygments_lexer": "ipython3",
   "version": "3.7.2"
  }
 },
 "nbformat": 4,
 "nbformat_minor": 2
}
