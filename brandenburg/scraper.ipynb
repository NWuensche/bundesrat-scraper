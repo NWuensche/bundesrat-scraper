{
 "cells": [
  {
   "cell_type": "code",
   "execution_count": 1,
   "metadata": {},
   "outputs": [],
   "source": [
    "%load_ext autoreload\n",
    "%autoreload 2"
   ]
  },
  {
   "cell_type": "code",
   "execution_count": 2,
   "metadata": {},
   "outputs": [],
   "source": [
    "import json\n",
    "import os"
   ]
  },
  {
   "cell_type": "code",
   "execution_count": 3,
   "metadata": {},
   "outputs": [],
   "source": [
    "import scraper_brandenburg"
   ]
  },
  {
   "cell_type": "code",
   "execution_count": 4,
   "metadata": {},
   "outputs": [],
   "source": [
    "USE_CACHE = True"
   ]
  },
  {
   "cell_type": "code",
   "execution_count": 5,
   "metadata": {},
   "outputs": [],
   "source": [
    "if USE_CACHE:\n",
    "    os.makedirs('./_cache', exist_ok=True)"
   ]
  },
  {
   "cell_type": "code",
   "execution_count": 6,
   "metadata": {},
   "outputs": [
    {
     "data": {
      "text/plain": [
       "83"
      ]
     },
     "execution_count": 6,
     "metadata": {},
     "output_type": "execute_result"
    }
   ],
   "source": [
    "with open('../bundesrat/sessions.json') as f:\n",
    "    sessions = json.load(f)\n",
    "len(sessions)"
   ]
  },
  {
   "cell_type": "code",
   "execution_count": 7,
   "metadata": {},
   "outputs": [],
   "source": [
    "FILENAME = 'session_tops.json'\n",
    "if os.path.exists(FILENAME):\n",
    "    with open(FILENAME) as f:\n",
    "        session_tops = json.load(f)\n",
    "else:\n",
    "    session_tops = {}"
   ]
  },
  {
   "cell_type": "code",
   "execution_count": 8,
   "metadata": {},
   "outputs": [
    {
     "name": "stdout",
     "output_type": "stream",
     "text": [
      "\n",
      "Loading tops of: 992\n",
      "\n",
      "Loading tops of: 991\n",
      "\n",
      "Loading tops of: 981\n",
      "\n",
      "Loading tops of: 971\n",
      "\n",
      "Loading tops of: 955\n",
      "\n",
      "Loading tops of: 935\n",
      "\n",
      "Loading tops of: 934\n",
      "\n",
      "Loading tops of: 933\n",
      "\n",
      "Loading tops of: 932\n",
      "\n",
      "Loading tops of: 931\n",
      "\n",
      "Loading tops of: 930\n",
      "\n",
      "Loading tops of: 929\n",
      "\n",
      "Loading tops of: 928\n",
      "\n",
      "Loading tops of: 927\n",
      "\n",
      "Loading tops of: 926\n",
      "\n",
      "Loading tops of: 925\n",
      "\n",
      "Loading tops of: 924\n",
      "\n",
      "Loading tops of: 923\n",
      "\n",
      "Loading tops of: 922\n",
      "\n",
      "Loading tops of: 921\n",
      "\n",
      "Loading tops of: 920\n",
      "\n",
      "Loading tops of: 919\n",
      "\n",
      "Loading tops of: 918\n",
      "\n",
      "Loading tops of: 917\n",
      "\n",
      "Loading tops of: 916\n",
      "\n",
      "Loading tops of: 915\n",
      "\n",
      "Loading tops of: 914\n",
      "\n",
      "Loading tops of: 913\n",
      "\n",
      "Loading tops of: 912\n",
      "\n",
      "Loading tops of: 911\n",
      "\n",
      "Loading tops of: 910\n",
      "Total sessions: 54\n"
     ]
    }
   ],
   "source": [
    "for session in sessions:\n",
    "    num = session['number']\n",
    "    if str(num) in session_tops:\n",
    "        continue\n",
    "    print('\\nLoading tops of: %s' % num)\n",
    "    \n",
    "    #Need class for later init, don't have all params by now\n",
    "    result = scraper_brandenburg.MainExtractorMethod(scraper_brandenburg.NSTextExtractorHolder).get_session(session)\n",
    "    if result is None:\n",
    "        continue\n",
    "    session_tops[str(num)] = result\n",
    "    with open(FILENAME, 'w') as f:\n",
    "        json.dump(session_tops, f)\n",
    "        \n",
    "print('Total sessions:', len(session_tops))"
   ]
  }
 ],
 "metadata": {
  "kernelspec": {
   "display_name": "Python 3",
   "language": "python",
   "name": "python3"
  },
  "language_info": {
   "codemirror_mode": {
    "name": "ipython",
    "version": 3
   },
   "file_extension": ".py",
   "mimetype": "text/x-python",
   "name": "python",
   "nbconvert_exporter": "python",
   "pygments_lexer": "ipython3",
   "version": "3.6.10"
  }
 },
 "nbformat": 4,
 "nbformat_minor": 2
}
