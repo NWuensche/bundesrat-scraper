{
 "cells": [
  {
   "cell_type": "code",
   "execution_count": 1,
   "metadata": {},
   "outputs": [],
   "source": [
    "%load_ext autoreload\n",
    "%autoreload 2"
   ]
  },
  {
   "cell_type": "code",
   "execution_count": 2,
   "metadata": {},
   "outputs": [],
   "source": [
    "import json\n",
    "import os"
   ]
  },
  {
   "cell_type": "code",
   "execution_count": 3,
   "metadata": {},
   "outputs": [],
   "source": [
    "import bundesrat"
   ]
  },
  {
   "cell_type": "code",
   "execution_count": 4,
   "metadata": {},
   "outputs": [],
   "source": [
    "USE_CACHE = True"
   ]
  },
  {
   "cell_type": "code",
   "execution_count": 5,
   "metadata": {},
   "outputs": [],
   "source": [
    "if USE_CACHE:\n",
    "    os.makedirs('./_cache', exist_ok=True)"
   ]
  },
  {
   "cell_type": "code",
   "execution_count": 6,
   "metadata": {},
   "outputs": [],
   "source": [
    "sessions = []\n",
    "if os.path.exists('sessions.json'):\n",
    "    with open('sessions.json') as f:\n",
    "        sessions = json.load(f)"
   ]
  },
  {
   "cell_type": "code",
   "execution_count": 7,
   "metadata": {},
   "outputs": [],
   "source": [
    "if not sessions:\n",
    "    sessions = (\n",
    "        list(bundesrat.get_sessions_this_year(cache=USE_CACHE)) +\n",
    "        list(bundesrat.get_sessions_archive(cache=USE_CACHE))\n",
    "    )\n",
    "    with open('sessions.json', 'w') as f:\n",
    "        json.dump(sessions, f)"
   ]
  },
  {
   "cell_type": "code",
   "execution_count": 9,
   "metadata": {},
   "outputs": [
    {
     "name": "stdout",
     "output_type": "stream",
     "text": [
      "\n",
      "Loading tops of: 936\n",
      "1a 1b 2 3 4 5 6 7 8 9 10 11 12 13 14 15 16 17 18 19 20 21 22a 22b 23 24 25 26 27 28 29 30 31 32 33 34 35 36 37 38 39 40 41 42 43 44a 44b 45 46 47 48 49 50 51 52 53 54 55 56 57 58 59 60 61 62 63 64 65 66 67 68 69 70 999a 999b \n",
      "Loading tops of: 935\n",
      "1 2 3 4 5 6 7 8 9 10 11 12 13 14 15 16 17 18 19 20 21 22 23 24 25 26 27 28 29 30 31 32 33 34 35 36 37 38 39 40 41 42 43 44 45 46a 46b 47 48 49 50 51 52 53 54 55 56 57 58a 58b 59 60 61 62 63 999a 999b \n",
      "Loading tops of: 934\n",
      "1 2 3 4 5 6 7 8 9 10 11 12 13 14 15 16 17 18 19 20a 20b 21 22 23 24 25 26 27 28 29a 29b 29c 30a 30b 31 32 33a 33b 33c 34 35 36 37 38 39 40 41 42 43 44 45 46 47a 47b 999a \n",
      "Loading tops of: 933\n",
      "1a 1b 2 3 4 5 6 7a 7b 8 9 10 11 12 13 14 15 16a 16b 17 18 19 20 21 22 23 24 25 26 27 28 29 30 31 32 33 34 35 36a 36b 37 38 39 40 41 42 43 44 45 46 47 48 49 50 51 52 53 54 55 56 57 58 59 60 61 62a 62b 63 64 65 66 67 68 69 70 999a 999b 999c 999d 999e \n",
      "Loading tops of: 932\n",
      "1 2 3 4 5 6 7 8 9 10 11 12 13 14 15 16 17 18 19 20 21 22 23 24 25a 25b 26 27 28 29 30 31 32a 32b 32c 32d 33 34 35 36 37 38 39 40 41 42 999a 999b 999c \n",
      "Loading tops of: 931\n",
      "1 2 3 4 5 6 7 8 9 10 11 12 13 14 15 16 17 18 19 20 21 22 23a 23b 24 25 26 27 28 29 999a \n",
      "Loading tops of: 930\n",
      "1 2 3 4 5 6 7 8 9 10 11 12 13 14a 14b 15 16 17 18 19 20 21 22 23 24 25 26 27 28 29 30 31 32 33a 33b 33c 34 35a 35b 36 37 38 39 40 41 42 43 44 45 46 47 48 49 50 51 52 53 999a 999b \n",
      "Loading tops of: 929\n",
      "1 2 3 4 5 6 7 8 9 10 11 12 13 14 15 16 17 18 19 20 21 22 23 24 25 26 27 28 29 30 31 32 33a 33b 34 35 36 37 38 39 40 41 42 43a 43b 43c 44 45 46 47 48 49 50 51 52 53 999a \n",
      "Loading tops of: 928\n",
      "1 2 3 4 5a 5b 5c 5d 6 7 8 9 10 11 12 13 14 15 16 17 18 19 20 21a 21b 22 23 24 25 26 27 28 29a 29b 30 31 32 33 34 35 36 37 38 39 40 41 42 43 44 45 46 999a \n",
      "Loading tops of: 927\n",
      "1 2 3 4 5 6 7 8 9 10 11 12 13 14 15 16 17 18 19 20 21a 21b 22 23 24 25 26 27 28 29 30 31 32 33 34 35 36 37 38 39 40 41 42 43 44 45 46 47 48 49 \n",
      "Loading tops of: 926\n",
      "1 2 3 4 5 6 7 8 9 10 11 12 13 14 15 16 17 18 19 20 21 22 23 24 25 26 27 28 29 30 31 32a 32b 32c 33 34 35a 35b 36 37 999a 999b \n",
      "Loading tops of: 925\n",
      "1a 1b 2 3 4 5 6 7 8 9 10 11 12 13 14 15 16 17 18 19a 19b 19c 19d 20 21 22 23 24 25 26 27 28 29 30 31a 31b 32 33 34 35 36 37 38 39 40 41 42 43 44 45a 45b 46 47 48 49 50 51 52 53 54 55 56 57a 57b 58 59 60 61 62 63a 63b 64 65 999a 999b 999c 999d 999e 999f 999g 999h \n",
      "Loading tops of: 924\n",
      "1 2 3 4 5 6 7 8 9 10 11 12 13 14 15 16 17 18 19 20 21 22 23 24 25 26 27 28 29 30 31 32 33a 33b 33c 34 35 36 37 38a 38b 38c 39 40 41 42 43 44 45 46 47 48 49 50 51 52 53 54 55 56 57 58 59 60 61 62 999a 999b 999c 999d 999e 999f \n",
      "Loading tops of: 923\n",
      "1 2 3 4 5 6 7 8 9 10 11 12 13 14 15 16 17 18 19 20 21 22 23 24 25 26 27 28 29 30 31 32 \n",
      "Loading tops of: 922\n",
      "1 2 3 4 5 6 7 8 9 10 11 12 13 14 15 16a 16b 17 18 19a 19b 19c 20 21 22a 22b 23 24 25 26 27 28 29 30 31 32 33 34 35 36 37 38 39 40 41 42 43 44 45 46 47 48 999a 999b 999c 999d 999e 999f 999g \n",
      "Loading tops of: 921\n",
      "1a 1b 2 3 4 5 6a 6b 6c 7 8a 8b 9 10 11 12 13 14 15 16 17a 17b 18 19 20 21 22 23 24 25 26 27 28 29a 29b 30 31 32 33 34 35 36 37 38 39a 39b 999a 999b \n",
      "Loading tops of: 920\n",
      "1 2 3 4 5 6 7 8 9 10 11 12 13 14 15 16 17 18 19 20 21 22 23 24 25 26 27 28 29 30 31 32 33 34 35 36a 36b 36c 37 38 39 40 41 42 43 44a 44b 45 46 47 48 49 999a 999b 999c 999d \n",
      "Loading tops of: 919\n",
      "1 2 3 4 5 6 7 8 9 10 11 12 13 14 15 16 17 18 19a 19b 20 21 22 23a 23b 24 25 26 27 28a 28b 29 30 31 32 33 999a 999b \n",
      "Loading tops of: 918\n",
      "1 2 3 4 5 6 7 8a 8b 8c 9 10 11 12 13 14 15 16 17 18a 18b 19a 19b 19c 20 21 22 23 \n",
      "Loading tops of: 917\n",
      "1 2 3a 3b 4 5 6 7 8 9 10 11 12 13 14 15 16 17 18 19 20 21 22 23 24 25 26 27 28 29 30 31 \n",
      "Loading tops of: 916\n",
      "1 2 3 4 5 6 7 8 9 10 11 12 13 14 15 16 17 18 19 20 21 22a 22b 22c 23 24 25 26 27 28 \n",
      "Loading tops of: 915\n",
      "1 2 3 4 5 6 7 8 9 10 11 12 13 14 15 16 17 18 19 20 21 22 23 24 25 26 27 28 29 30 \n",
      "Loading tops of: 914\n",
      "1a 1b 2 3 4 5 6 7 8 9 10 11 12 13 14 15 16a 16b 17 18 19 20 21 22 23 24 25 26 27 28 29 30 31 32 33 34 35 36 37 38 39 40 41 42 43 44 45 46 47 48 49 50 51 52 53 54 55 56 57 58 59 60 61 62 63 64 65 66 67 68 69 70a 70b 71 72 73 74 75 \n",
      "Loading tops of: 913\n",
      "1 \n",
      "Loading tops of: 912\n",
      "1 2 3 4 5 6 7 8 9 10 11 12 13 14 15 16 17 18 19 20 21 22 23 24 25 26 27 28 29 30 31 32 33 34 35 36 37 38 39 40 41 42 43 44 45 46 47 48 49 50 51 52 53 54 55 56 57 58 59 60 61 62 63 64 65 66 67 68 69 70 71 72 73 74 75 76 77 78 79 80 81 82 83 84 85 86 87 88 \n",
      "Loading tops of: 911\n",
      "1 2 \n",
      "Loading tops of: 910\n",
      "1a 1b 2 3 4 5 6 7 8 9a 9b 10 11 12 13 14 15 16 17 18 19 20 21 22 23 24 25 26 27 28 29 30 31 32 33 34 35 36 37 38 39 40 41 42 43 44 45 46 47 48 49 50 51 52 53 54 55 56 57 58 59 60 61 62 63 64 65 66 67 68 69 70 71 72 73 74 75 76 77 78 79 80 81 82 83 84 85 86 87 88 89 90 91 92 93a 93b 93c 93d 94a 94b 95 96 97 98 99 100 101 102 103a 103b 103c 104a 104b 105 106 107 108 109 "
     ]
    }
   ],
   "source": [
    "for session in sessions:\n",
    "    if 'tops' in session:\n",
    "        continue\n",
    "    print('\\nLoading tops of: %s' % session['number'])\n",
    "\n",
    "    session['tops'] = list(bundesrat.get_session_tops(session['number']))\n",
    "    with open('sessions.json', 'w') as f:\n",
    "        json.dump(sessions, f)"
   ]
  },
  {
   "cell_type": "code",
   "execution_count": null,
   "metadata": {},
   "outputs": [],
   "source": []
  }
 ],
 "metadata": {
  "kernelspec": {
   "display_name": "Python 3",
   "language": "python",
   "name": "python3"
  },
  "language_info": {
   "codemirror_mode": {
    "name": "ipython",
    "version": 3
   },
   "file_extension": ".py",
   "mimetype": "text/x-python",
   "name": "python",
   "nbconvert_exporter": "python",
   "pygments_lexer": "ipython3",
   "version": "3.6.10"
  }
 },
 "nbformat": 4,
 "nbformat_minor": 2
}
