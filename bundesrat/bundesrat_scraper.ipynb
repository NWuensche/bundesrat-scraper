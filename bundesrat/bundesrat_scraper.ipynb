{
 "cells": [
  {
   "cell_type": "code",
   "execution_count": 1,
   "metadata": {},
   "outputs": [],
   "source": [
    "%load_ext autoreload\n",
    "%autoreload 2"
   ]
  },
  {
   "cell_type": "code",
   "execution_count": 2,
   "metadata": {},
   "outputs": [],
   "source": [
    "import json\n",
    "import os"
   ]
  },
  {
   "cell_type": "code",
   "execution_count": 3,
   "metadata": {},
   "outputs": [],
   "source": [
    "import bundesrat"
   ]
  },
  {
   "cell_type": "code",
   "execution_count": 4,
   "metadata": {},
   "outputs": [],
   "source": [
    "USE_CACHE = True"
   ]
  },
  {
   "cell_type": "code",
   "execution_count": 5,
   "metadata": {},
   "outputs": [],
   "source": [
    "if USE_CACHE:\n",
    "    os.makedirs('./_cache', exist_ok=True)"
   ]
  },
  {
   "cell_type": "code",
   "execution_count": 6,
   "metadata": {},
   "outputs": [],
   "source": [
    "sessions = []\n",
    "if os.path.exists('sessions.json'):\n",
    "    with open('sessions.json') as f:\n",
    "        sessions = json.load(f)"
   ]
  },
  {
   "cell_type": "code",
   "execution_count": 7,
   "metadata": {},
   "outputs": [],
   "source": [
    "if not sessions:\n",
    "    sessions = (\n",
    "        #list(bundesrat.get_sessions_this_year(cache=USE_CACHE)) + #By now, archive also includes the sessions of the current year\n",
    "        list(bundesrat.get_sessions_archive(cache=USE_CACHE))\n",
    "    )\n",
    "    with open('sessions.json', 'w') as f:\n",
    "        json.dump(sessions, f)"
   ]
  },
  {
   "cell_type": "code",
   "execution_count": null,
   "metadata": {},
   "outputs": [
    {
     "name": "stdout",
     "output_type": "stream",
     "text": [
      "\n",
      "Loading tops of: 992\n",
      "1 2 3 4 5 6 7 8 9 10 11 12 13 14 15 16 17 18 19 20 21 22 23a 23b 24 25 26 27 28 29 30 31 32 33 34 35 36 37 38 39 40a 40b 40c 41 42 43 44 45 46 47 48 49 50 51 52 53 54 55 56 57 58 59 60 61 62 63 64 65 66 67 68 69a 69b 69c 69d 70a 70b 71 72 73 74 75a 75b 76 77 78 79 80 81 82 83 84 85 86 87a 87b 88 999a 999b 999c 999d 999e \n",
      "Loading tops of: 991\n",
      "1a 1b 1c \n",
      "Loading tops of: 990\n",
      "1 2 3 4 5 6 7 8 9 10 11 12 "
     ]
    }
   ],
   "source": [
    "for session in sessions:\n",
    "    if 'tops' in session:\n",
    "        continue\n",
    "    if int(session['number']) >= 993: #Take out latest session 993 until all Abstimmungsverhalten are online\n",
    "        continue\n",
    "    print('\\nLoading tops of: %s' % session['number'])\n",
    "\n",
    "    session['tops'] = list(bundesrat.get_session_tops(session['number']))\n",
    "    with open('sessions.json', 'w') as f:\n",
    "        json.dump(sessions, f)"
   ]
  },
  {
   "cell_type": "code",
   "execution_count": null,
   "metadata": {},
   "outputs": [],
   "source": []
  }
 ],
 "metadata": {
  "kernelspec": {
   "display_name": "Python 3",
   "language": "python",
   "name": "python3"
  },
  "language_info": {
   "codemirror_mode": {
    "name": "ipython",
    "version": 3
   },
   "file_extension": ".py",
   "mimetype": "text/x-python",
   "name": "python",
   "nbconvert_exporter": "python",
   "pygments_lexer": "ipython3",
   "version": "3.6.10"
  }
 },
 "nbformat": 4,
 "nbformat_minor": 2
}
